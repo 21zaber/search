{
 "cells": [
  {
   "cell_type": "markdown",
   "metadata": {},
   "source": [
    "<h1>Storage test</h1>"
   ]
  },
  {
   "cell_type": "markdown",
   "metadata": {},
   "source": [
    "Some imports"
   ]
  },
  {
   "cell_type": "code",
   "execution_count": 20,
   "metadata": {
    "collapsed": true
   },
   "outputs": [],
   "source": [
    "import sqlalchemy\n",
    "from sqlalchemy import create_engine\n",
    "from sqlalchemy.schema import Table, MetaData, Column\n",
    "from sqlalchemy.types import String, Integer, Text"
   ]
  },
  {
   "cell_type": "markdown",
   "metadata": {},
   "source": [
    "DB class"
   ]
  },
  {
   "cell_type": "code",
   "execution_count": 38,
   "metadata": {
    "collapsed": true
   },
   "outputs": [],
   "source": [
    "class DB:\n",
    "    db_path = 'sqlite:///wiki.db'\n",
    "    \n",
    "    def __init__(self):\n",
    "        self._engine = engine = create_engine(self.db_path)\n",
    "        self.session = engine.connect()\n",
    "        self.md = MetaData(bind=self.session)\n",
    "        self._table = Table('page', self.md, \n",
    "                        Column('id', String(20), primary_key=True),\n",
    "                        Column('title', String(50)), \n",
    "                        Column('text', Text()),\n",
    "                        Column('timestamp', String(50))               \n",
    "                       )\n",
    "        \n",
    "    def recreate(self):\n",
    "        self.md.drop_all()\n",
    "        self.md.create_all()\n",
    "        \n",
    "    def insert(self, data):\n",
    "        return self.session.execute(self._table.insert().values(**data))\n",
    "    \n",
    "    def select(self, obj_id=None):\n",
    "        if obj_id is None:\n",
    "            query = self._table.select()\n",
    "        else:\n",
    "            query = self._table.select().where(self._table.c.id == obj_id)\n",
    "            \n",
    "        return self.session.execute(query)\n",
    "        "
   ]
  },
  {
   "cell_type": "markdown",
   "metadata": {},
   "source": [
    "Some class's tests"
   ]
  },
  {
   "cell_type": "code",
   "execution_count": 39,
   "metadata": {},
   "outputs": [
    {
     "name": "stdout",
     "output_type": "stream",
     "text": [
      "select id = 5\n",
      "{'id': '5', 'title': 'test', 'timestamp': '2017-08-15T05:02:43Z', 'text': 'hkvbnldfkjvbqerbvqeklbvqebvlqelbvqelbv'}\n",
      "select *\n",
      "{'id': '0', 'title': 'test', 'timestamp': '2017-08-15T05:02:43Z', 'text': 'hkvbnldfkjvbqerbvqeklbvqebvlqelbvqelbv'}\n",
      "{'id': '1', 'title': 'test', 'timestamp': '2017-08-15T05:02:43Z', 'text': 'hkvbnldfkjvbqerbvqeklbvqebvlqelbvqelbv'}\n",
      "{'id': '2', 'title': 'test', 'timestamp': '2017-08-15T05:02:43Z', 'text': 'hkvbnldfkjvbqerbvqeklbvqebvlqelbvqelbv'}\n",
      "{'id': '3', 'title': 'test', 'timestamp': '2017-08-15T05:02:43Z', 'text': 'hkvbnldfkjvbqerbvqeklbvqebvlqelbvqelbv'}\n",
      "{'id': '4', 'title': 'test', 'timestamp': '2017-08-15T05:02:43Z', 'text': 'hkvbnldfkjvbqerbvqeklbvqebvlqelbvqelbv'}\n",
      "{'id': '5', 'title': 'test', 'timestamp': '2017-08-15T05:02:43Z', 'text': 'hkvbnldfkjvbqerbvqeklbvqebvlqelbvqelbv'}\n",
      "{'id': '6', 'title': 'test', 'timestamp': '2017-08-15T05:02:43Z', 'text': 'hkvbnldfkjvbqerbvqeklbvqebvlqelbvqelbv'}\n",
      "{'id': '7', 'title': 'test', 'timestamp': '2017-08-15T05:02:43Z', 'text': 'hkvbnldfkjvbqerbvqeklbvqebvlqelbvqelbv'}\n",
      "{'id': '8', 'title': 'test', 'timestamp': '2017-08-15T05:02:43Z', 'text': 'hkvbnldfkjvbqerbvqeklbvqebvlqelbvqelbv'}\n",
      "{'id': '9', 'title': 'test', 'timestamp': '2017-08-15T05:02:43Z', 'text': 'hkvbnldfkjvbqerbvqeklbvqebvlqelbvqelbv'}\n"
     ]
    }
   ],
   "source": [
    "sample_page = {\n",
    "    'id': 12,\n",
    "    'title': 'test',\n",
    "    'text': 'hkvbnldfkjvbqerbvqeklbvqebvlqelbvqelbv',\n",
    "    'timestamp': '2017-08-15T05:02:43Z',    \n",
    "}\n",
    "\n",
    "db = DB()\n",
    "db.recreate()\n",
    "\n",
    "for i in range(10):\n",
    "    sample_page['id'] = str(i)\n",
    "    db.insert(sample_page)\n",
    "\n",
    "print(\"select id = 5\")\n",
    "for i in db.select(obj_id=5):\n",
    "    print(dict(i))\n",
    "    \n",
    "print(\"select *\")\n",
    "for i in db.select():\n",
    "    print(dict(i))\n"
   ]
  },
  {
   "cell_type": "markdown",
   "metadata": {},
   "source": [
    "Connection to db"
   ]
  },
  {
   "cell_type": "code",
   "execution_count": 21,
   "metadata": {},
   "outputs": [],
   "source": [
    "engine = create_engine('sqlite:///wiki.db')\n",
    "session = engine.connect()"
   ]
  },
  {
   "cell_type": "markdown",
   "metadata": {},
   "source": [
    "Table object"
   ]
  },
  {
   "cell_type": "code",
   "execution_count": 22,
   "metadata": {},
   "outputs": [],
   "source": [
    "metadata = MetaData(bind=session)\n",
    "db_page = Table('page', metadata, \n",
    "                    Column('id', String(20), primary_key=True),\n",
    "                    Column('title', String(50)), \n",
    "                    Column('text', Text()),\n",
    "                    Column('timestamp', String(50))               \n",
    "               )"
   ]
  },
  {
   "cell_type": "code",
   "execution_count": null,
   "metadata": {
    "collapsed": true
   },
   "outputs": [],
   "source": []
  },
  {
   "cell_type": "code",
   "execution_count": 25,
   "metadata": {
    "collapsed": true
   },
   "outputs": [],
   "source": [
    "metadata.drop_all()\n",
    "metadata.create_all()"
   ]
  },
  {
   "cell_type": "code",
   "execution_count": 26,
   "metadata": {
    "collapsed": true
   },
   "outputs": [],
   "source": [
    "sample_page = {\n",
    "    'id': 12,\n",
    "    'title': 'test',\n",
    "    'text': 'hkvbnldfkjvbqerbvqeklbvqebvlqelbvqelbv',\n",
    "    'timestamp': '2017-08-15T05:02:43Z',    \n",
    "}"
   ]
  },
  {
   "cell_type": "code",
   "execution_count": 31,
   "metadata": {},
   "outputs": [],
   "source": [
    "for i in range(10):\n",
    "    sample_page['id'] = str(i)\n",
    "    session.execute(db_page.insert().values(**sample_page))\n",
    "#session.commit()"
   ]
  },
  {
   "cell_type": "code",
   "execution_count": 33,
   "metadata": {},
   "outputs": [
    {
     "name": "stdout",
     "output_type": "stream",
     "text": [
      "{'id': '12', 'title': 'test', 'timestamp': '2017-08-15T05:02:43Z', 'text': 'hkvbnldfkjvbqerbvqeklbvqebvlqelbvqelbv'}\n",
      "{'id': '0', 'title': 'test', 'timestamp': '2017-08-15T05:02:43Z', 'text': 'hkvbnldfkjvbqerbvqeklbvqebvlqelbvqelbv'}\n",
      "{'id': '1', 'title': 'test', 'timestamp': '2017-08-15T05:02:43Z', 'text': 'hkvbnldfkjvbqerbvqeklbvqebvlqelbvqelbv'}\n",
      "{'id': '2', 'title': 'test', 'timestamp': '2017-08-15T05:02:43Z', 'text': 'hkvbnldfkjvbqerbvqeklbvqebvlqelbvqelbv'}\n",
      "{'id': '3', 'title': 'test', 'timestamp': '2017-08-15T05:02:43Z', 'text': 'hkvbnldfkjvbqerbvqeklbvqebvlqelbvqelbv'}\n",
      "{'id': '4', 'title': 'test', 'timestamp': '2017-08-15T05:02:43Z', 'text': 'hkvbnldfkjvbqerbvqeklbvqebvlqelbvqelbv'}\n",
      "{'id': '5', 'title': 'test', 'timestamp': '2017-08-15T05:02:43Z', 'text': 'hkvbnldfkjvbqerbvqeklbvqebvlqelbvqelbv'}\n",
      "{'id': '6', 'title': 'test', 'timestamp': '2017-08-15T05:02:43Z', 'text': 'hkvbnldfkjvbqerbvqeklbvqebvlqelbvqelbv'}\n",
      "{'id': '7', 'title': 'test', 'timestamp': '2017-08-15T05:02:43Z', 'text': 'hkvbnldfkjvbqerbvqeklbvqebvlqelbvqelbv'}\n",
      "{'id': '8', 'title': 'test', 'timestamp': '2017-08-15T05:02:43Z', 'text': 'hkvbnldfkjvbqerbvqeklbvqebvlqelbvqelbv'}\n",
      "{'id': '9', 'title': 'test', 'timestamp': '2017-08-15T05:02:43Z', 'text': 'hkvbnldfkjvbqerbvqeklbvqebvlqelbvqelbv'}\n"
     ]
    }
   ],
   "source": [
    "t = session.execute(db_page.select())#.where(db_page.c.id == '12'))\n",
    "for i in t:\n",
    "    print(dict(i))"
   ]
  },
  {
   "cell_type": "code",
   "execution_count": null,
   "metadata": {
    "collapsed": true
   },
   "outputs": [],
   "source": []
  },
  {
   "cell_type": "code",
   "execution_count": null,
   "metadata": {
    "collapsed": true
   },
   "outputs": [],
   "source": []
  },
  {
   "cell_type": "code",
   "execution_count": null,
   "metadata": {
    "collapsed": true
   },
   "outputs": [],
   "source": []
  },
  {
   "cell_type": "code",
   "execution_count": null,
   "metadata": {
    "collapsed": true
   },
   "outputs": [],
   "source": []
  },
  {
   "cell_type": "code",
   "execution_count": null,
   "metadata": {
    "collapsed": true
   },
   "outputs": [],
   "source": []
  },
  {
   "cell_type": "code",
   "execution_count": null,
   "metadata": {
    "collapsed": true
   },
   "outputs": [],
   "source": []
  },
  {
   "cell_type": "code",
   "execution_count": null,
   "metadata": {
    "collapsed": true
   },
   "outputs": [],
   "source": []
  }
 ],
 "metadata": {
  "kernelspec": {
   "display_name": "Python 3",
   "language": "python",
   "name": "python3"
  },
  "language_info": {
   "codemirror_mode": {
    "name": "ipython",
    "version": 3
   },
   "file_extension": ".py",
   "mimetype": "text/x-python",
   "name": "python",
   "nbconvert_exporter": "python",
   "pygments_lexer": "ipython3",
   "version": "3.5.3"
  }
 },
 "nbformat": 4,
 "nbformat_minor": 2
}
