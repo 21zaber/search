{
 "metadata": {
  "name": "",
  "signature": "sha256:f7efd4e006352ee69287b6e787d89e8005cfd7a61d53f796f6da87b461509b38"
 },
 "nbformat": 3,
 "nbformat_minor": 0,
 "worksheets": [
  {
   "cells": [
    {
     "cell_type": "code",
     "collapsed": false,
     "input": [
      "from nltk.stem import ISRIStemmer, LancasterStemmer, PorterStemmer, RSLPStemmer\n",
      "from nltk.stem import WordNetLemmatizer, RegexpStemmer, SnowballStemmer\n",
      "import nltk\n",
      "\n",
      "nltk.download('wordnet')\n",
      "\n",
      "CACHE_SIZE = 10**5\n",
      "\n",
      "stemmer_dict = {\n",
      "    'isris': ISRIStemmer,\n",
      "    'lancaster': LancasterStemmer,\n",
      "    'porter': PorterStemmer,\n",
      "#    'rslps': RSLPStemmer,\n",
      "    'snowball': SnowballStemmer,\n",
      "#    'regexp': RegexpStemmer,\n",
      "    'wordnet': WordNetLemmatizer,\n",
      "}\n",
      "\n",
      "class Stemmer:\n",
      "    def __init__(self, method='default', use_cache=True):\n",
      "        log(\"Stemming method\", method)\n",
      "        self.method = method\n",
      "        if method == 'default':\n",
      "            return\n",
      "        if method == 'snowball':\n",
      "            self.st = stemmer_dict[method]('english')\n",
      "        else:\n",
      "            self.st = stemmer_dict[method]()\n",
      "        self.cache = {}\n",
      "        self.use_cache = use_cache\n",
      "    \n",
      "    def stem(self, token):\n",
      "        if self.method == 'default':\n",
      "            return token\n",
      "        if self.use_cache and token in self.cache:\n",
      "            return self.cache[token]\n",
      "\n",
      "        if self.method == 'wordnet':\n",
      "            resp = self.st.lemmatize(token)\n",
      "        else:\n",
      "            resp = self.st.stem(token)\n",
      "\n",
      "        if self.use_cache:\n",
      "            self.cache[token] = resp\n",
      "            if len(self.cache) > CACHE_SIZE:\n",
      "                self.cache = {}\n",
      "        return resp\n",
      "\n",
      "        "
     ],
     "language": "python",
     "metadata": {},
     "outputs": [
      {
       "output_type": "stream",
       "stream": "stdout",
       "text": [
        "[nltk_data] Downloading package wordnet to /home/zaber/nltk_data...\n",
        "[nltk_data]   Package wordnet is already up-to-date!\n"
       ]
      }
     ],
     "prompt_number": 14
    },
    {
     "cell_type": "code",
     "collapsed": false,
     "input": [
      "tokens = [\"mothers\", \"maximum\", \"presumably\", \"multiply\", \"provision\", \"owed\", \"ear\", \"saying\", \"crying\", \"string\", \"meant\", \"cement\"]\n",
      "from time import time\n",
      "\n",
      "for m in stemmer_dict:\n",
      "    print(m, end=' ')\n",
      "    st = Stemmer(method=m)\n",
      "    terms = []\n",
      "    ts = time()\n",
      "    for token in tokens:\n",
      "        term = ''\n",
      "        for i in range(1000):\n",
      "            term = st.stem(token)\n",
      "        terms.append(term)\n",
      "    ts = time() - ts\n",
      "    \n",
      "    print(ts, terms)"
     ],
     "language": "python",
     "metadata": {},
     "outputs": [
      {
       "output_type": "stream",
       "stream": "stdout",
       "text": [
        "isris 0.17292213439941406"
       ]
      },
      {
       "output_type": "stream",
       "stream": "stdout",
       "text": [
        " ['mothers', 'maximum', 'presumably', 'multiply', 'provision', 'owed', 'ear', 'saying', 'crying', 'string', 'meant', 'cement']\n",
        "wordnet 0.08693408966064453"
       ]
      },
      {
       "output_type": "stream",
       "stream": "stdout",
       "text": [
        " ['mother', 'maximum', 'presumably', 'multiply', 'provision', 'owed', 'ear', 'saying', 'cry', 'string', 'meant', 'cement']\n",
        "lancaster 0.3303089141845703"
       ]
      },
      {
       "output_type": "stream",
       "stream": "stdout",
       "text": [
        " ['moth', 'maxim', 'presum', 'multiply', 'provid', 'ow', 'ear', 'say', 'cry', 'string', 'meant', 'cem']\n",
        "snowball 0.2545628547668457"
       ]
      },
      {
       "output_type": "stream",
       "stream": "stdout",
       "text": [
        " ['mother', 'maximum', 'presum', 'multipli', 'provis', 'owe', 'ear', 'say', 'cri', 'string', 'meant', 'cement']\n",
        "porter 0.39454078674316406"
       ]
      },
      {
       "output_type": "stream",
       "stream": "stdout",
       "text": [
        " ['mother', 'maximum', 'presum', 'multipli', 'provis', 'owe', 'ear', 'say', 'cri', 'string', 'meant', 'cement']\n"
       ]
      }
     ],
     "prompt_number": 23
    }
   ],
   "metadata": {}
  }
 ]
}