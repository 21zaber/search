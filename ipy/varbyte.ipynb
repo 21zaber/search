{
 "cells": [
  {
   "cell_type": "code",
   "execution_count": 45,
   "metadata": {},
   "outputs": [],
   "source": [
    "import struct\n",
    "\n",
    "def _int2byte(a):\n",
    "    return struct.pack(\"B\", a)\n",
    "def _byte2int(a):\n",
    "    return struct.unpack(\"B\", a)\n",
    "\n",
    "\n",
    "def _encode_int8(a):\n",
    "    b = b''\n",
    "    base = 2 ** 7\n",
    "    while a > base:\n",
    "        b += _int2byte(a%base)\n",
    "        a //= base\n",
    "    b += _int2byte(base + a)\n",
    "        \n",
    "    return b\n",
    "\n",
    "def _encode_int4(a):\n",
    "    pass\n",
    "\n",
    "def _encode_list8(l):\n",
    "    b = b''\n",
    "    for i in l:\n",
    "        b += _encode_int8(i)\n",
    "        \n",
    "    return b\n",
    "\n",
    "def _encode_list4(l):\n",
    "    ints = []\n",
    "    base = 2 ** 3\n",
    "    \n",
    "    for i in l:\n",
    "        a = i\n",
    "        while a > base:\n",
    "            ints.append(a % base)\n",
    "            a //= base\n",
    "        ints.append(a + base)\n",
    "        \n",
    "    if len(ints) % 2 == 1:\n",
    "        ints.append(0)\n",
    "        \n",
    "    b = b''\n",
    "    for i in range(0, len(ints), 2):\n",
    "        b += _encode_int8(base * ints[i] + ints[i+1])\n",
    "        \n",
    "    return b\n",
    "\n",
    "def encode_list(l):\n",
    "    pass\n",
    "\n",
    "def _decode_int8(b):\n",
    "    a = 0\n",
    "    base = 2 ** 7\n",
    "    osn = 1\n",
    "    l = 0\n",
    "    for i in b:\n",
    "        l += 1\n",
    "        if i > base:\n",
    "            a += (i - base) * osn\n",
    "            break\n",
    "        a += i * osn\n",
    "        \n",
    "        osn *= base\n",
    "        \n",
    "    return a, l\n",
    "\n",
    "def _decode_list8(b):\n",
    "    l = []\n",
    "    \n",
    "    while b:\n",
    "        a, p = _decode_int8(b)\n",
    "        b = b[p:]\n",
    "        l.append(a)\n",
    "        \n",
    "    return l\n",
    "     \n",
    "\n"
   ]
  },
  {
   "cell_type": "code",
   "execution_count": 39,
   "metadata": {},
   "outputs": [
    {
     "name": "stdout",
     "output_type": "stream",
     "text": [
      "b'\\x81\\x82\\x83\\x84h\\x87 \\r\\x86'\n"
     ]
    },
    {
     "data": {
      "text/plain": [
       "[1, 2, 3, 4, 1000, 100000]"
      ]
     },
     "execution_count": 39,
     "metadata": {},
     "output_type": "execute_result"
    }
   ],
   "source": [
    "b = _encode_list8([1,2,3,4,1000,100000])\n",
    "print(b)\n",
    "_decode_list8(b)"
   ]
  },
  {
   "cell_type": "code",
   "execution_count": 35,
   "metadata": {},
   "outputs": [
    {
     "name": "stdout",
     "output_type": "stream",
     "text": [
      "104\n",
      "135\n",
      "b'h\\x87'\n"
     ]
    },
    {
     "data": {
      "text/plain": [
       "1000"
      ]
     },
     "execution_count": 35,
     "metadata": {},
     "output_type": "execute_result"
    }
   ],
   "source": [
    "b = _encode_int8(1000)\n",
    "print(b)\n",
    "_decode_int8(b)"
   ]
  },
  {
   "cell_type": "code",
   "execution_count": 46,
   "metadata": {},
   "outputs": [
    {
     "data": {
      "text/plain": [
       "b'\\xd2\\xe4\\x85\\xc1\\x80\\x89\\xa6\\xd8'"
      ]
     },
     "execution_count": 46,
     "metadata": {},
     "output_type": "execute_result"
    }
   ],
   "source": [
    "_encode_list4([1,2,3,4,1000, 1000000])"
   ]
  }
 ],
 "metadata": {
  "kernelspec": {
   "display_name": "Python 3",
   "language": "python",
   "name": "python3"
  },
  "language_info": {
   "codemirror_mode": {
    "name": "ipython",
    "version": 3
   },
   "file_extension": ".py",
   "mimetype": "text/x-python",
   "name": "python",
   "nbconvert_exporter": "python",
   "pygments_lexer": "ipython3",
   "version": "3.5.3"
  }
 },
 "nbformat": 4,
 "nbformat_minor": 1
}
