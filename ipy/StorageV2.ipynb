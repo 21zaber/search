{
 "cells": [
  {
   "cell_type": "code",
   "execution_count": 10,
   "metadata": {},
   "outputs": [],
   "source": [
    "import struct\n",
    "from math import sqrt\n",
    "from utils import round_up"
   ]
  },
  {
   "cell_type": "markdown",
   "metadata": {},
   "source": [
    "## Encoding/decoding, varbite8"
   ]
  },
  {
   "cell_type": "code",
   "execution_count": 1,
   "metadata": {
    "collapsed": true
   },
   "outputs": [],
   "source": [
    "def encode_int(a):\n",
    "    b = b''                           \n",
    "    base = 2 ** 7                     \n",
    "    while a >= base:                  \n",
    "        b += struct.pack('B', a%base) \n",
    "        a //= base                    \n",
    "    b += struct.pack('B', base + a)   \n",
    "\n",
    "    return b\n",
    "\n",
    "def decode_int(b):\n",
    "    a = 0                        \n",
    "    base = 2 ** 7                \n",
    "    osn = 1                      \n",
    "    l = 0                        \n",
    "    for i in b:                  \n",
    "        l += 1                   \n",
    "        if i >= base:            \n",
    "            a += (i - base) * osn\n",
    "            break                \n",
    "        a += i * osn             \n",
    "\n",
    "        osn *= base              \n",
    "\n",
    "    return a, l                  "
   ]
  },
  {
   "cell_type": "markdown",
   "metadata": {},
   "source": [
    "## Output\n",
    "Convert some structures to bytes"
   ]
  },
  {
   "cell_type": "code",
   "execution_count": 54,
   "metadata": {},
   "outputs": [],
   "source": [
    "int_size = 4\n",
    "int_format = 'I'\n",
    "jump_size = 1 * int_size\n",
    "\n",
    "ENABLE_VARBITE = True\n",
    "ENABLE_LIST_CMP = True\n",
    "ENABLE_JUMPS = True\n",
    "\n",
    "def write_int_raw(a):\n",
    "    return struct.pack(int_format, a)\n",
    "\n",
    "def write_int(a):\n",
    "    if ENABLE_VARBITE:\n",
    "        return encode_int(a)\n",
    "    return write_int_raw(a)\n",
    "\n",
    "def write_str(s):\n",
    "    b = bytes(s, encoding='utf8')\n",
    "    return write_int(len(s)) + struct.Struct('{}s'.format(len(b))).pack(b)\n",
    "    \n",
    "def write_list(l):\n",
    "    if ENABLE_LIST_CMP:\n",
    "        nl = [l[0]]\n",
    "        for i in range(1, len(l)):\n",
    "            nl.append(l[i] - l[i-1])\n",
    "        l = nl\n",
    "        \n",
    "    b = b''.join([write_int(i) for i in l])\n",
    "    return write_int(len(b)) + b\n",
    "\n",
    "def write_entrance(doc_id, coords):\n",
    "    return write_int(doc_id) + write_list(coords)\n",
    "\n",
    "def write_jump(offset):\n",
    "    return write_int_raw(offset)\n",
    "\n",
    "def write_block(block):\n",
    "    l = len(block)\n",
    "    p = round_up(sqrt(l-1)) # jump number\n",
    "    o = round_up((l-1) / p) # jump len\n",
    "    \n",
    "    entrances = []\n",
    "    sizes = [0]\n",
    "    \n",
    "    doc_ids = list(block.keys())\n",
    "    doc_ids.sort()\n",
    "    \n",
    "    for i in range(l): # encode entrances\n",
    "        doc_id = doc_ids[i]\n",
    "        entrances.append(write_entrance(doc_id, block[doc_id]))\n",
    "        sizes.append(sizes[-1] + len(entrances[-1]))\n",
    "        \n",
    "    sizes = sizes[1:]\n",
    "    \n",
    "    b = write_int(l)\n",
    "    b = write_int_raw(len(b) + sizes[-1] + jump_size * p) + b\n",
    "    \n",
    "    for i in range(l): # add jumps and join all bites\n",
    "        b += entrances[i]\n",
    "        if ENABLE_JUMPS and i % o == 0 and o > 2 and i < l-1:\n",
    "            to = min(l-1, i+o-1)\n",
    "            b += write_jump(sizes[to] - sizes[i])\n",
    "        \n",
    "    return b"
   ]
  },
  {
   "cell_type": "code",
   "execution_count": 47,
   "metadata": {},
   "outputs": [],
   "source": [
    "b = write_block({i:[1,2,8] for i in range(10)})"
   ]
  },
  {
   "cell_type": "code",
   "execution_count": 49,
   "metadata": {},
   "outputs": [
    {
     "data": {
      "text/plain": [
       "(123,)"
      ]
     },
     "execution_count": 49,
     "metadata": {},
     "output_type": "execute_result"
    }
   ],
   "source": [
    "b = write_int_raw(123)\n",
    "struct.unpack('I', b)"
   ]
  },
  {
   "cell_type": "code",
   "execution_count": 56,
   "metadata": {},
   "outputs": [
    {
     "data": {
      "text/plain": [
       "131"
      ]
     },
     "execution_count": 56,
     "metadata": {},
     "output_type": "execute_result"
    }
   ],
   "source": [
    "write_str('asd')[0]"
   ]
  },
  {
   "cell_type": "code",
   "execution_count": 58,
   "metadata": {},
   "outputs": [
    {
     "name": "stdout",
     "output_type": "stream",
     "text": [
      "85\n",
      "5\n",
      "130\n"
     ]
    }
   ],
   "source": [
    "for i in write_int(33493):\n",
    "    print(i)"
   ]
  }
 ],
 "metadata": {
  "kernelspec": {
   "display_name": "Python 3",
   "language": "python",
   "name": "python3"
  },
  "language_info": {
   "codemirror_mode": {
    "name": "ipython",
    "version": 3
   },
   "file_extension": ".py",
   "mimetype": "text/x-python",
   "name": "python",
   "nbconvert_exporter": "python",
   "pygments_lexer": "ipython3",
   "version": "3.5.3"
  }
 },
 "nbformat": 4,
 "nbformat_minor": 2
}
