{
 "metadata": {
  "name": "",
  "signature": "sha256:9d0008eb529b27383d2fef5a19ee5766352b721c2a58c27a09ceddd1af9b128c"
 },
 "nbformat": 3,
 "nbformat_minor": 0,
 "worksheets": [
  {
   "cells": [
    {
     "cell_type": "heading",
     "level": 1,
     "metadata": {},
     "source": [
      "Extract page's full URL "
     ]
    },
    {
     "cell_type": "code",
     "collapsed": false,
     "input": [
      "#https://en.wikipedia.org/w/api.php?action=query&prop=info&pageids=45449398&inprop=url\n",
      "\n",
      "from pprint import pprint\n",
      "\n",
      "import requests\n",
      "from json import loads\n",
      "\n",
      "def get_url(page_id):\n",
      "    url_template = 'https://en.wikipedia.org/w/api.php?action=query&prop=info&pageids={}&inprop=url'\n",
      "    headers = {\n",
      "        'format':'json',\n",
      "    }\n",
      "    url = url_template.format(page_id)\n",
      "    resp = requests.get(url, headers)\n",
      "    data = loads(resp.text)\n",
      "    try:\n",
      "        return data['query']['pages'][str(page_id)]['fullurl']\n",
      "    except:\n",
      "        raise Exception(\"Cannot get page link\")\n",
      "\n",
      "get_url(45449398)"
     ],
     "language": "python",
     "metadata": {},
     "outputs": [
      {
       "metadata": {},
       "output_type": "pyout",
       "prompt_number": 5,
       "text": [
        "'https://en.wikipedia.org/wiki/The_Pizza_Boy'"
       ]
      }
     ],
     "prompt_number": 5
    },
    {
     "cell_type": "heading",
     "level": 1,
     "metadata": {},
     "source": [
      "Query parsing"
     ]
    },
    {
     "cell_type": "code",
     "collapsed": false,
     "input": [
      "def letter(c, debug=False):                                                                            \n",
      "    return ((c >= 'a' and c <= 'z') or (c >= 'A' and c <= 'Z') or (c >= '0' and c <= '9'))\n",
      "\n",
      "def word(s, debug=False):\n",
      "    if debug:\n",
      "        print('[word]', s)\n",
      "    q = ''\n",
      "    l = 0\n",
      "    while l < len(s):\n",
      "        if letter(s[l], debug=debug):\n",
      "            q += s[l]\n",
      "        else:\n",
      "            break\n",
      "        l += 1\n",
      "    return [q], l\n",
      "\n",
      "def query(s, stop=False, debug=False):\n",
      "    if debug:\n",
      "        print('[query]', s)\n",
      "    \n",
      "    stack, p = [], 0\n",
      "    \n",
      "    if not s:\n",
      "        return stack, p\n",
      "    \n",
      "    if s[0] == '!':\n",
      "        rstack, rp = query(s[1:], debug=debug)\n",
      "        stack, p = rstack + ['!'], rp+1\n",
      "    elif s[0] == '(':\n",
      "        rstack, rp = query(s[1:], debug=debug)\n",
      "        if rp+1 < len(s) and s[rp+1] == ')':\n",
      "            stack, p = rstack, rp+2\n",
      "        else:\n",
      "            raise Exception()\n",
      "    else:\n",
      "        stack, p = word(s, debug=debug)\n",
      "        \n",
      "    if p == 0:\n",
      "        return stack, 0\n",
      "        \n",
      "    while p < len(s) and not stop:\n",
      "        or_flag = False\n",
      "        sep = set(' |')\n",
      "        while p < len(s) and s[p] in sep:\n",
      "            if s[p] == '|':\n",
      "                or_flag = True\n",
      "            p += 1\n",
      "        \n",
      "        rstack, rp = query(s[p:], stop=True, debug=debug)\n",
      "        if rp < 1:\n",
      "            break\n",
      "        \n",
      "        stack += rstack\n",
      "        p += rp\n",
      "        \n",
      "        if or_flag:\n",
      "            stack.append('|')\n",
      "        else:\n",
      "            stack.append('&')\n",
      "        \n",
      "    return stack, p\n",
      "        "
     ],
     "language": "python",
     "metadata": {},
     "outputs": [],
     "prompt_number": 7
    },
    {
     "cell_type": "code",
     "collapsed": false,
     "input": [
      "query('a (b | c))', debug=True)"
     ],
     "language": "python",
     "metadata": {},
     "outputs": [
      {
       "output_type": "stream",
       "stream": "stdout",
       "text": [
        "[query] a (b | c))\n",
        "[word] a (b | c))\n",
        "[query] (b | c))\n",
        "[query] b | c))\n",
        "[word] b | c))\n",
        "[query] c))\n",
        "[word] c))\n",
        "[query] ))\n",
        "[word] ))\n",
        "[query] )\n",
        "[word] )\n"
       ]
      },
      {
       "metadata": {},
       "output_type": "pyout",
       "prompt_number": 9,
       "text": [
        "(['a', 'b', 'c', '|', '&'], 9)"
       ]
      }
     ],
     "prompt_number": 9
    }
   ],
   "metadata": {}
  }
 ]
}